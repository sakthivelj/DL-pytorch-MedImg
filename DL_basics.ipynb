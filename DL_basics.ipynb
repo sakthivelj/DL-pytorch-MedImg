{
  "nbformat": 4,
  "nbformat_minor": 0,
  "metadata": {
    "colab": {
      "provenance": [],
      "authorship_tag": "ABX9TyN3ls2GAi+uBGWD1OC3ZibV",
      "include_colab_link": true
    },
    "kernelspec": {
      "name": "python3",
      "display_name": "Python 3"
    },
    "language_info": {
      "name": "python"
    }
  },
  "cells": [
    {
      "cell_type": "markdown",
      "metadata": {
        "id": "view-in-github",
        "colab_type": "text"
      },
      "source": [
        "<a href=\"https://colab.research.google.com/github/sakthivelj/DL-pytorch-MedImg/blob/main/DL_basics.ipynb\" target=\"_parent\"><img src=\"https://colab.research.google.com/assets/colab-badge.svg\" alt=\"Open In Colab\"/></a>"
      ]
    },
    {
      "cell_type": "code",
      "execution_count": 3,
      "metadata": {
        "id": "yd4v_ire7vEk"
      },
      "outputs": [],
      "source": [
        "import numpy as np"
      ]
    },
    {
      "cell_type": "code",
      "source": [
        "# Create Numpy array\n",
        "mylist = [1,2,3]"
      ],
      "metadata": {
        "id": "dCkZnWGz8jzI"
      },
      "execution_count": 2,
      "outputs": []
    },
    {
      "cell_type": "code",
      "source": [
        "type(mylist)"
      ],
      "metadata": {
        "colab": {
          "base_uri": "https://localhost:8080/"
        },
        "id": "SqGvjKeQ8otP",
        "outputId": "5d9c9198-5b25-42aa-ae3f-fec3bb7e52bd"
      },
      "execution_count": 4,
      "outputs": [
        {
          "output_type": "execute_result",
          "data": {
            "text/plain": [
              "list"
            ]
          },
          "metadata": {},
          "execution_count": 4
        }
      ]
    },
    {
      "cell_type": "code",
      "source": [
        "#transform to numpy array\n",
        "\n",
        "np.array(mylist)"
      ],
      "metadata": {
        "colab": {
          "base_uri": "https://localhost:8080/"
        },
        "id": "QFNcj7Up8qWx",
        "outputId": "b6deba41-24a1-4010-ef28-026e2630c731"
      },
      "execution_count": 6,
      "outputs": [
        {
          "output_type": "execute_result",
          "data": {
            "text/plain": [
              "array([1, 2, 3])"
            ]
          },
          "metadata": {},
          "execution_count": 6
        }
      ]
    },
    {
      "cell_type": "code",
      "source": [
        "array = np.array(mylist)\n",
        "type(array)"
      ],
      "metadata": {
        "colab": {
          "base_uri": "https://localhost:8080/"
        },
        "id": "pQAGrdZY84z9",
        "outputId": "1608ba60-36a3-46ef-c1b8-31ec2734c538"
      },
      "execution_count": 9,
      "outputs": [
        {
          "output_type": "execute_result",
          "data": {
            "text/plain": [
              "numpy.ndarray"
            ]
          },
          "metadata": {},
          "execution_count": 9
        }
      ]
    },
    {
      "cell_type": "code",
      "source": [
        "mylist = [[1,2,3],[4,5,6],[7,8,9]]"
      ],
      "metadata": {
        "id": "YXX-pVX89F-O"
      },
      "execution_count": 11,
      "outputs": []
    },
    {
      "cell_type": "code",
      "source": [
        "type(mylist)"
      ],
      "metadata": {
        "colab": {
          "base_uri": "https://localhost:8080/"
        },
        "id": "5I59WZAs9Z61",
        "outputId": "dfe631cb-9578-48e3-d583-adc1e98701c5"
      },
      "execution_count": 12,
      "outputs": [
        {
          "output_type": "execute_result",
          "data": {
            "text/plain": [
              "list"
            ]
          },
          "metadata": {},
          "execution_count": 12
        }
      ]
    },
    {
      "cell_type": "code",
      "source": [
        "# Convert to array\n",
        "array = np.array(mylist)\n",
        "type(array)"
      ],
      "metadata": {
        "colab": {
          "base_uri": "https://localhost:8080/"
        },
        "id": "OJzdqeJJ9eFA",
        "outputId": "48a637a0-fc68-4653-9ac7-6742e7954e30"
      },
      "execution_count": 14,
      "outputs": [
        {
          "output_type": "execute_result",
          "data": {
            "text/plain": [
              "numpy.ndarray"
            ]
          },
          "metadata": {},
          "execution_count": 14
        }
      ]
    },
    {
      "cell_type": "code",
      "source": [
        "array.shape"
      ],
      "metadata": {
        "colab": {
          "base_uri": "https://localhost:8080/"
        },
        "id": "-a_KAx329iEK",
        "outputId": "4ff0031b-f649-42cf-abb3-f2eaab5cfd38"
      },
      "execution_count": 17,
      "outputs": [
        {
          "output_type": "execute_result",
          "data": {
            "text/plain": [
              "(3, 3)"
            ]
          },
          "metadata": {},
          "execution_count": 17
        }
      ]
    },
    {
      "cell_type": "code",
      "source": [
        "# Create numpy array"
      ],
      "metadata": {
        "id": "m7wOKfff9qWy"
      },
      "execution_count": 18,
      "outputs": []
    },
    {
      "cell_type": "code",
      "source": [
        "np.arange(0,11,3).shape"
      ],
      "metadata": {
        "colab": {
          "base_uri": "https://localhost:8080/"
        },
        "id": "vWBh6jJP-T4Y",
        "outputId": "293ef80d-a27a-41a6-82f4-3683de44a713"
      },
      "execution_count": 22,
      "outputs": [
        {
          "output_type": "execute_result",
          "data": {
            "text/plain": [
              "(4,)"
            ]
          },
          "metadata": {},
          "execution_count": 22
        }
      ]
    },
    {
      "cell_type": "code",
      "source": [
        "np.zeros((10,2,3)) + 5"
      ],
      "metadata": {
        "colab": {
          "base_uri": "https://localhost:8080/"
        },
        "id": "d9eFvOU7-Wi4",
        "outputId": "3cb7cb38-5653-40c4-d6f9-320ef9020ce8"
      },
      "execution_count": 29,
      "outputs": [
        {
          "output_type": "execute_result",
          "data": {
            "text/plain": [
              "array([[[5., 5., 5.],\n",
              "        [5., 5., 5.]],\n",
              "\n",
              "       [[5., 5., 5.],\n",
              "        [5., 5., 5.]],\n",
              "\n",
              "       [[5., 5., 5.],\n",
              "        [5., 5., 5.]],\n",
              "\n",
              "       [[5., 5., 5.],\n",
              "        [5., 5., 5.]],\n",
              "\n",
              "       [[5., 5., 5.],\n",
              "        [5., 5., 5.]],\n",
              "\n",
              "       [[5., 5., 5.],\n",
              "        [5., 5., 5.]],\n",
              "\n",
              "       [[5., 5., 5.],\n",
              "        [5., 5., 5.]],\n",
              "\n",
              "       [[5., 5., 5.],\n",
              "        [5., 5., 5.]],\n",
              "\n",
              "       [[5., 5., 5.],\n",
              "        [5., 5., 5.]],\n",
              "\n",
              "       [[5., 5., 5.],\n",
              "        [5., 5., 5.]]])"
            ]
          },
          "metadata": {},
          "execution_count": 29
        }
      ]
    },
    {
      "cell_type": "code",
      "source": [
        "type(0.)"
      ],
      "metadata": {
        "colab": {
          "base_uri": "https://localhost:8080/"
        },
        "id": "-yHJvqOC-hFH",
        "outputId": "82d5e36a-6abd-4db6-9bb9-7eea129001f7"
      },
      "execution_count": 25,
      "outputs": [
        {
          "output_type": "execute_result",
          "data": {
            "text/plain": [
              "float"
            ]
          },
          "metadata": {},
          "execution_count": 25
        }
      ]
    },
    {
      "cell_type": "code",
      "source": [
        "np.linspace(0,10, 18)"
      ],
      "metadata": {
        "colab": {
          "base_uri": "https://localhost:8080/"
        },
        "id": "C282-daL-nPk",
        "outputId": "2ca276b5-e6e8-4643-96a6-cc445f0ddac1"
      },
      "execution_count": 37,
      "outputs": [
        {
          "output_type": "execute_result",
          "data": {
            "text/plain": [
              "array([ 0.        ,  0.58823529,  1.17647059,  1.76470588,  2.35294118,\n",
              "        2.94117647,  3.52941176,  4.11764706,  4.70588235,  5.29411765,\n",
              "        5.88235294,  6.47058824,  7.05882353,  7.64705882,  8.23529412,\n",
              "        8.82352941,  9.41176471, 10.        ])"
            ]
          },
          "metadata": {},
          "execution_count": 37
        }
      ]
    },
    {
      "cell_type": "code",
      "source": [
        "np.eye(2)"
      ],
      "metadata": {
        "colab": {
          "base_uri": "https://localhost:8080/"
        },
        "id": "DFANrd3cBfr3",
        "outputId": "fd367ffe-43b1-4df4-c13a-e28fc8371363"
      },
      "execution_count": 41,
      "outputs": [
        {
          "output_type": "execute_result",
          "data": {
            "text/plain": [
              "array([[1., 0.],\n",
              "       [0., 1.]])"
            ]
          },
          "metadata": {},
          "execution_count": 41
        }
      ]
    },
    {
      "cell_type": "code",
      "source": [],
      "metadata": {
        "id": "YNjxXBCoDtgz"
      },
      "execution_count": null,
      "outputs": []
    },
    {
      "cell_type": "code",
      "source": [
        "np.random.rand(4,4)"
      ],
      "metadata": {
        "colab": {
          "base_uri": "https://localhost:8080/"
        },
        "id": "mbzYcELFCAyv",
        "outputId": "55f2c4ab-b1d3-4b9c-e3d4-ff55687f60fc"
      },
      "execution_count": 51,
      "outputs": [
        {
          "output_type": "execute_result",
          "data": {
            "text/plain": [
              "array([[0.66993508, 0.24857968, 0.02470002, 0.47338155],\n",
              "       [0.17824928, 0.13560145, 0.71791007, 0.62844866],\n",
              "       [0.03625596, 0.057144  , 0.80698409, 0.5611129 ],\n",
              "       [0.67486803, 0.04981967, 0.55898514, 0.9260684 ]])"
            ]
          },
          "metadata": {},
          "execution_count": 51
        }
      ]
    },
    {
      "cell_type": "code",
      "source": [
        "np.random.randn(11, 4)"
      ],
      "metadata": {
        "colab": {
          "base_uri": "https://localhost:8080/"
        },
        "id": "ERJxQF2NCZRw",
        "outputId": "4efb8089-7492-4cc5-df70-46cfdc5f75e1"
      },
      "execution_count": 49,
      "outputs": [
        {
          "output_type": "execute_result",
          "data": {
            "text/plain": [
              "array([[[-2.85010381, -1.10506364, -0.32716569, ..., -1.20227339,\n",
              "         -0.72041391,  0.28920973],\n",
              "        [ 0.31353772,  0.52639193, -0.63601604, ..., -1.0343298 ,\n",
              "         -1.92217491,  0.07287745],\n",
              "        [ 0.12134494, -0.87247627, -0.91717806, ..., -1.26841255,\n",
              "          0.13936803,  0.08564983],\n",
              "        [-0.24354996, -0.42318584, -0.19251861, ..., -1.10127872,\n",
              "         -0.66812845, -2.34310066]],\n",
              "\n",
              "       [[ 1.48566636,  0.26966316, -1.4219189 , ..., -0.95746424,\n",
              "          0.80197977, -1.19960898],\n",
              "        [ 0.53351678,  1.70994033,  0.37109042, ...,  1.26605539,\n",
              "          0.66024254, -0.78980023],\n",
              "        [ 1.32605136, -0.07734613, -0.64205091, ..., -0.46678852,\n",
              "         -2.21323382,  0.59926233],\n",
              "        [-2.23314259,  0.52566715, -0.20228702, ...,  0.57220488,\n",
              "          0.68094975, -0.10355134]],\n",
              "\n",
              "       [[ 0.37332364,  1.32557927, -0.39471218, ...,  0.39973546,\n",
              "         -0.04285423, -0.63491679],\n",
              "        [-0.17933268,  0.66074707, -1.46748203, ..., -0.92344917,\n",
              "          0.71817556, -0.89548533],\n",
              "        [ 0.75484273, -1.51281159, -1.82159925, ..., -0.55189561,\n",
              "         -0.89568234,  0.49027189],\n",
              "        [-0.99363177,  1.17111616, -0.64623082, ...,  0.79240005,\n",
              "         -1.46820277,  0.75077771]],\n",
              "\n",
              "       ...,\n",
              "\n",
              "       [[-1.63154463, -0.51165485, -0.92358784, ..., -0.06557993,\n",
              "         -0.80711397, -0.45591432],\n",
              "        [ 0.91939625, -0.14913458, -0.21109105, ..., -0.14595045,\n",
              "         -0.43026487, -1.94630846],\n",
              "        [ 0.42481015, -0.99786477,  0.25200594, ..., -0.3303673 ,\n",
              "         -1.08486839, -1.00200734],\n",
              "        [ 2.13657589, -0.44474986, -0.38643077, ..., -0.03858694,\n",
              "         -0.74970695, -0.34866138]],\n",
              "\n",
              "       [[ 1.43595857, -0.91048996,  0.85994791, ..., -0.30460249,\n",
              "         -1.52992683, -0.66190696],\n",
              "        [ 0.43788149,  0.16673417, -1.11491588, ...,  0.21333463,\n",
              "         -0.79102556,  0.9060539 ],\n",
              "        [-0.59829828,  1.30724455,  0.06464342, ...,  0.92640625,\n",
              "         -0.9742746 ,  0.52084067],\n",
              "        [-0.69287963, -0.21276814, -0.3613183 , ..., -1.31504882,\n",
              "         -2.08454777, -0.00970049]],\n",
              "\n",
              "       [[-1.36254571,  0.47564609,  0.04942536, ...,  0.03347875,\n",
              "         -0.12816325,  0.73264369],\n",
              "        [-0.70999934,  0.36559909,  0.38296011, ..., -0.4547707 ,\n",
              "         -0.18872972, -0.62115467],\n",
              "        [-0.47573902, -1.01611547, -1.54956754, ...,  0.80649894,\n",
              "         -1.71471189,  0.3041204 ],\n",
              "        [-1.22864063, -0.5545963 ,  0.72347962, ..., -3.23304759,\n",
              "         -0.43737989, -0.9302622 ]]])"
            ]
          },
          "metadata": {},
          "execution_count": 49
        }
      ]
    },
    {
      "cell_type": "code",
      "source": [
        "np.random.randint(1,100,5)"
      ],
      "metadata": {
        "colab": {
          "base_uri": "https://localhost:8080/"
        },
        "id": "6LZSZSEqClla",
        "outputId": "7c54cd48-4bbd-4def-9b87-b70ee142d1dd"
      },
      "execution_count": 54,
      "outputs": [
        {
          "output_type": "execute_result",
          "data": {
            "text/plain": [
              "array([29, 97, 64, 63, 12])"
            ]
          },
          "metadata": {},
          "execution_count": 54
        }
      ]
    },
    {
      "cell_type": "code",
      "source": [
        "np.random.seed(552)\n",
        "np.random.rand(4)"
      ],
      "metadata": {
        "colab": {
          "base_uri": "https://localhost:8080/"
        },
        "id": "0vauJAddD6al",
        "outputId": "3ac5133c-9a57-4139-8db1-220ae0b1aa5a"
      },
      "execution_count": 65,
      "outputs": [
        {
          "output_type": "execute_result",
          "data": {
            "text/plain": [
              "array([0.05934238, 0.38494112, 0.43062102, 0.80260343])"
            ]
          },
          "metadata": {},
          "execution_count": 65
        }
      ]
    },
    {
      "cell_type": "code",
      "source": [
        "np.random.seed(552)\n",
        "np.random.rand(4)"
      ],
      "metadata": {
        "colab": {
          "base_uri": "https://localhost:8080/"
        },
        "id": "uOrmxPqLGyL4",
        "outputId": "887e211a-716c-4f4a-c896-8c3c14ce44f4"
      },
      "execution_count": 66,
      "outputs": [
        {
          "output_type": "execute_result",
          "data": {
            "text/plain": [
              "array([0.05934238, 0.38494112, 0.43062102, 0.80260343])"
            ]
          },
          "metadata": {},
          "execution_count": 66
        }
      ]
    },
    {
      "cell_type": "code",
      "source": [
        "arr = np.arange(4)"
      ],
      "metadata": {
        "id": "tJy3GMZKG1Qp"
      },
      "execution_count": 67,
      "outputs": []
    },
    {
      "cell_type": "code",
      "source": [
        "ranarr = np.random.randint(0,50,10)"
      ],
      "metadata": {
        "id": "7-HSM2HSHCi9"
      },
      "execution_count": 70,
      "outputs": []
    },
    {
      "cell_type": "code",
      "source": [
        "ranarr"
      ],
      "metadata": {
        "colab": {
          "base_uri": "https://localhost:8080/"
        },
        "id": "3Ip478c5HErF",
        "outputId": "1a9ca5c6-a7ba-4485-d1df-ca99daff3efd"
      },
      "execution_count": 71,
      "outputs": [
        {
          "output_type": "execute_result",
          "data": {
            "text/plain": [
              "array([34, 19, 19, 30, 46, 11,  0, 43, 46, 12])"
            ]
          },
          "metadata": {},
          "execution_count": 71
        }
      ]
    },
    {
      "cell_type": "code",
      "source": [
        "arr.shape"
      ],
      "metadata": {
        "colab": {
          "base_uri": "https://localhost:8080/"
        },
        "id": "XzLO-IqeHUbm",
        "outputId": "4a20df0a-58f1-4bd8-a239-46aa1e4bd3a7"
      },
      "execution_count": 72,
      "outputs": [
        {
          "output_type": "execute_result",
          "data": {
            "text/plain": [
              "(4,)"
            ]
          },
          "metadata": {},
          "execution_count": 72
        }
      ]
    },
    {
      "cell_type": "code",
      "source": [
        "arr.reshape(2,2)"
      ],
      "metadata": {
        "colab": {
          "base_uri": "https://localhost:8080/"
        },
        "id": "AB_11cDXHXSu",
        "outputId": "0c30af24-010d-44ba-d81e-77b22f2a6e11"
      },
      "execution_count": 73,
      "outputs": [
        {
          "output_type": "execute_result",
          "data": {
            "text/plain": [
              "array([[0, 1],\n",
              "       [2, 3]])"
            ]
          },
          "metadata": {},
          "execution_count": 73
        }
      ]
    },
    {
      "cell_type": "code",
      "source": [
        "ranarr.max()"
      ],
      "metadata": {
        "colab": {
          "base_uri": "https://localhost:8080/"
        },
        "id": "TI0Ln1MEHaa7",
        "outputId": "5ba6aeca-baf9-4bf0-a18c-b82c413834dd"
      },
      "execution_count": 74,
      "outputs": [
        {
          "output_type": "execute_result",
          "data": {
            "text/plain": [
              "46"
            ]
          },
          "metadata": {},
          "execution_count": 74
        }
      ]
    },
    {
      "cell_type": "code",
      "source": [
        "ranarr.min()"
      ],
      "metadata": {
        "colab": {
          "base_uri": "https://localhost:8080/"
        },
        "id": "zPenvG5AHsEm",
        "outputId": "8fa30480-dde3-434d-b119-a8c6f788f971"
      },
      "execution_count": 75,
      "outputs": [
        {
          "output_type": "execute_result",
          "data": {
            "text/plain": [
              "0"
            ]
          },
          "metadata": {},
          "execution_count": 75
        }
      ]
    },
    {
      "cell_type": "code",
      "source": [
        "ranarr.argmin()"
      ],
      "metadata": {
        "colab": {
          "base_uri": "https://localhost:8080/"
        },
        "id": "XjjSnZOdHvI-",
        "outputId": "63829486-9428-454c-e038-f27285788348"
      },
      "execution_count": 77,
      "outputs": [
        {
          "output_type": "execute_result",
          "data": {
            "text/plain": [
              "6"
            ]
          },
          "metadata": {},
          "execution_count": 77
        }
      ]
    },
    {
      "cell_type": "code",
      "source": [
        "ranarr.argmin()"
      ],
      "metadata": {
        "colab": {
          "base_uri": "https://localhost:8080/"
        },
        "id": "kYOYHC4BH2_8",
        "outputId": "90c3ef3f-f916-4dce-d713-9741432f12ae"
      },
      "execution_count": 78,
      "outputs": [
        {
          "output_type": "execute_result",
          "data": {
            "text/plain": [
              "6"
            ]
          },
          "metadata": {},
          "execution_count": 78
        }
      ]
    },
    {
      "cell_type": "code",
      "source": [
        "ranarr.dtype"
      ],
      "metadata": {
        "colab": {
          "base_uri": "https://localhost:8080/"
        },
        "id": "6bYtZW2zIAG2",
        "outputId": "32b02fb7-3c1f-4fc2-8c1d-d1dcc835ee0d"
      },
      "execution_count": 79,
      "outputs": [
        {
          "output_type": "execute_result",
          "data": {
            "text/plain": [
              "dtype('int64')"
            ]
          },
          "metadata": {},
          "execution_count": 79
        }
      ]
    },
    {
      "cell_type": "code",
      "source": [
        "arr = np.arange(0,11)\n",
        "arr[3]"
      ],
      "metadata": {
        "colab": {
          "base_uri": "https://localhost:8080/"
        },
        "id": "W_o3APn7IDjD",
        "outputId": "3ee2eb04-d536-46e7-8291-40171c17f33a"
      },
      "execution_count": 80,
      "outputs": [
        {
          "output_type": "execute_result",
          "data": {
            "text/plain": [
              "3"
            ]
          },
          "metadata": {},
          "execution_count": 80
        }
      ]
    },
    {
      "cell_type": "code",
      "source": [
        "arr[2:4]"
      ],
      "metadata": {
        "colab": {
          "base_uri": "https://localhost:8080/"
        },
        "id": "5xdpsvbvJQQS",
        "outputId": "a4c3ff7c-1b7d-486b-bfb4-7f1d0ef77c43"
      },
      "execution_count": 82,
      "outputs": [
        {
          "output_type": "execute_result",
          "data": {
            "text/plain": [
              "array([2, 3])"
            ]
          },
          "metadata": {},
          "execution_count": 82
        }
      ]
    },
    {
      "cell_type": "code",
      "source": [],
      "metadata": {
        "id": "8MdBJy_FJUMu"
      },
      "execution_count": null,
      "outputs": []
    }
  ]
}